{
 "cells": [
  {
   "cell_type": "code",
   "execution_count": 3,
   "metadata": {
    "colab": {
     "base_uri": "https://localhost:8080/"
    },
    "executionInfo": {
     "elapsed": 5736,
     "status": "ok",
     "timestamp": 1704354587725,
     "user": {
      "displayName": "Ashesh Chattopadhyay",
      "userId": "15330689794524777668"
     },
     "user_tz": 480
    },
    "id": "JPVqpcV5Xi9a",
    "outputId": "3c52e96d-cd76-41cd-f4a0-305fb2112dc7"
   },
   "outputs": [
    {
     "name": "stdout",
     "output_type": "stream",
     "text": [
      "Requirement already satisfied: derivative in /opt/anaconda3/envs/condaenv/lib/python3.11/site-packages (0.6.3)\n",
      "Requirement already satisfied: importlib-metadata>=7.1.0 in /opt/anaconda3/envs/condaenv/lib/python3.11/site-packages (from derivative) (8.5.0)\n",
      "Requirement already satisfied: numpy>=1.18.3 in /opt/anaconda3/envs/condaenv/lib/python3.11/site-packages (from derivative) (1.26.4)\n",
      "Requirement already satisfied: scikit-learn<2,>=1 in /opt/anaconda3/envs/condaenv/lib/python3.11/site-packages (from derivative) (1.6.1)\n",
      "Requirement already satisfied: scipy<2.0.0,>=1.4.1 in /opt/anaconda3/envs/condaenv/lib/python3.11/site-packages (from derivative) (1.15.1)\n",
      "Requirement already satisfied: zipp>=3.20 in /opt/anaconda3/envs/condaenv/lib/python3.11/site-packages (from importlib-metadata>=7.1.0->derivative) (3.21.0)\n",
      "Requirement already satisfied: joblib>=1.2.0 in /opt/anaconda3/envs/condaenv/lib/python3.11/site-packages (from scikit-learn<2,>=1->derivative) (1.4.2)\n",
      "Requirement already satisfied: threadpoolctl>=3.1.0 in /opt/anaconda3/envs/condaenv/lib/python3.11/site-packages (from scikit-learn<2,>=1->derivative) (3.5.0)\n"
     ]
    }
   ],
   "source": [
    "!pip install derivative"
   ]
  },
  {
   "cell_type": "code",
   "execution_count": 4,
   "metadata": {
    "executionInfo": {
     "elapsed": 159,
     "status": "ok",
     "timestamp": 1737536818668,
     "user": {
      "displayName": "Ashesh Chattopadhyay",
      "userId": "15330689794524777668"
     },
     "user_tz": 480
    },
    "id": "CaU1DGXJca7D"
   },
   "outputs": [],
   "source": [
    "import h5py\n",
    "import numpy as np\n",
    "from scipy.integrate import solve_ivp\n",
    "from derivative import dxdt\n",
    "import matplotlib.pyplot as plt"
   ]
  },
  {
   "cell_type": "code",
   "execution_count": 5,
   "metadata": {
    "executionInfo": {
     "elapsed": 159,
     "status": "ok",
     "timestamp": 1737536850872,
     "user": {
      "displayName": "Ashesh Chattopadhyay",
      "userId": "15330689794524777668"
     },
     "user_tz": 480
    },
    "id": "vVQS4ajFXqxZ"
   },
   "outputs": [],
   "source": [
    "def lorenz(_: float, u: np.ndarray, sigma: float, rho: float,\n",
    "           beta: float) -> np.ndarray:\n",
    "    \"\"\"Returns a list containing the three functions of the Lorenz equation.\n",
    "\n",
    "    The Lorenz equations have constant coefficients (that don't depend on t),\n",
    "    but we still receive t as the first parameter because that's how the\n",
    "    integrator works.\n",
    "    \"\"\"\n",
    "    x = u[0]\n",
    "    y = u[1]\n",
    "    z = u[2]\n",
    "    dx_dt = sigma * (y - x)\n",
    "    dy_dt = x * (rho - z) - y\n",
    "    dz_dt = x * y - beta * z\n",
    "\n",
    "    return np.hstack((dx_dt, dy_dt, dz_dt))"
   ]
  },
  {
   "cell_type": "code",
   "execution_count": 6,
   "metadata": {
    "executionInfo": {
     "elapsed": 572,
     "status": "ok",
     "timestamp": 1737536853467,
     "user": {
      "displayName": "Ashesh Chattopadhyay",
      "userId": "15330689794524777668"
     },
     "user_tz": 480
    },
    "id": "SEKdBmE2Yc5k"
   },
   "outputs": [],
   "source": [
    "SIGMA = 10\n",
    "RHO = 28\n",
    "BETA = 8 / 3\n",
    "t0 = 0.001\n",
    "dt = 0.001\n",
    "tmax = 100\n",
    "n = int(tmax / dt)\n",
    "\n",
    "u0 = np.array([-8, 8, 27])\n",
    "t = np.linspace(start=t0, stop=tmax, num=n)\n",
    "result = solve_ivp(fun=lorenz,\n",
    "                        t_span=(t0, tmax),\n",
    "                        y0=u0,\n",
    "                        t_eval=t,\n",
    "                        args=(SIGMA, RHO, BETA))\n",
    "u = result.y.T"
   ]
  },
  {
   "cell_type": "code",
   "execution_count": 8,
   "metadata": {
    "executionInfo": {
     "elapsed": 140,
     "status": "ok",
     "timestamp": 1737536855509,
     "user": {
      "displayName": "Ashesh Chattopadhyay",
      "userId": "15330689794524777668"
     },
     "user_tz": 480
    },
    "id": "_Yr2Bk6cb3Q_"
   },
   "outputs": [],
   "source": [
    "def calculate_exact_derivatives(u: np.ndarray) -> np.ndarray:\n",
    "    \"\"\"Calculates the exact derivatives by using the Lorenz equations.\n",
    "\n",
    "    Since we have the equations in this scenario, we can calculate the\n",
    "    exact derivatives. This is easily done by simply plugging u into the\n",
    "    equations, and getting du/dt back. In a real-world scenario, we don't\n",
    "    have the equations -- that's what we're trying to discover with SINDy!\n",
    "    \"\"\"\n",
    "    n = u.shape[0]\n",
    "    uprime = np.zeros_like(u)\n",
    "    for i in range(n):\n",
    "        uprime[i, :] = lorenz(None, u[i, :], SIGMA, RHO, BETA)\n",
    "\n",
    "    return uprime"
   ]
  },
  {
   "cell_type": "code",
   "execution_count": 9,
   "metadata": {
    "executionInfo": {
     "elapsed": 107,
     "status": "ok",
     "timestamp": 1737536857374,
     "user": {
      "displayName": "Ashesh Chattopadhyay",
      "userId": "15330689794524777668"
     },
     "user_tz": 480
    },
    "id": "3f16M9vZYyZq"
   },
   "outputs": [],
   "source": [
    "def create_library(u: np.ndarray, polynomial_order: int,\n",
    "                   use_trig: bool) -> np.ndarray:\n",
    "    \"\"\"Creates a matrix containing a library of candidate functions.\n",
    "\n",
    "    For example, if our u depends on x, y, and z, and we specify\n",
    "    polynomial_order=2 and use_trig=false, our terms would be:\n",
    "    1, x, y, z, x^2, xy, xz, y^2, yz, z^2.\n",
    "    \"\"\"\n",
    "    (m, n) = u.shape\n",
    "    theta = np.ones((m, 1))\n",
    "\n",
    "    # Polynomials of order 1.\n",
    "    theta = np.hstack((theta, u))\n",
    "\n",
    "    # Polynomials of order 2.\n",
    "    if polynomial_order >= 2:\n",
    "        for i in range(n):\n",
    "            for j in range(i, n):\n",
    "                theta = np.hstack((theta, u[:, i:i + 1] * u[:, j:j + 1]))\n",
    "\n",
    "    # Polynomials of order 3.\n",
    "    if polynomial_order >= 3:\n",
    "        for i in range(n):\n",
    "            for j in range(i, n):\n",
    "                for k in range(j, n):\n",
    "                    theta = np.hstack(\n",
    "                        (theta, u[:, i:i + 1] * u[:, j:j + 1] * u[:, k:k + 1]))\n",
    "\n",
    "    # Polynomials of order 4.\n",
    "    if polynomial_order >= 4:\n",
    "        for i in range(n):\n",
    "            for j in range(i, n):\n",
    "                for k in range(j, n):\n",
    "                    for l in range(k, n):\n",
    "                        theta = np.hstack(\n",
    "                            (theta, u[:, i:i + 1] * u[:, j:j + 1] *\n",
    "                             u[:, k:k + 1] * u[:, l:l + 1]))\n",
    "\n",
    "    # Polynomials of order 5.\n",
    "    if polynomial_order >= 5:\n",
    "        for i in range(n):\n",
    "            for j in range(i, n):\n",
    "                for k in range(j, n):\n",
    "                    for l in range(k, n):\n",
    "                        for m in range(l, n):\n",
    "                            theta = np.hstack(\n",
    "                                (theta, u[:, i:i + 1] * u[:, j:j + 1] *\n",
    "                                 u[:, k:k + 1] * u[:, l:l + 1] * u[:, m:m + 1]))\n",
    "\n",
    "    if use_trig:\n",
    "        for i in range(1, 11):\n",
    "            theta = np.hstack((theta, np.sin(i * u), np.cos(i * u)))\n",
    "\n",
    "    return theta"
   ]
  },
  {
   "cell_type": "code",
   "execution_count": 10,
   "metadata": {
    "executionInfo": {
     "elapsed": 138,
     "status": "ok",
     "timestamp": 1737536859618,
     "user": {
      "displayName": "Ashesh Chattopadhyay",
      "userId": "15330689794524777668"
     },
     "user_tz": 480
    },
    "id": "BjiZRIG3Z5eZ"
   },
   "outputs": [],
   "source": [
    "def calculate_regression(theta: np.ndarray, uprime: np.ndarray,\n",
    "                         threshold: float, max_iterations: int) -> np.ndarray:\n",
    "    \"\"\"Finds a xi matrix that fits theta * xi = uprime, using the sequential\n",
    "    thresholded least-squares algorithm, which is a regression algorithm that\n",
    "    promotes sparsity.\n",
    "\n",
    "    The authors of the SINDy paper designed this algorithm as an alternative\n",
    "    to LASSO, because they found LASSO to be algorithmically unstable, and\n",
    "    computationally expensive for very large data sets.\n",
    "    \"\"\"\n",
    "    # Solve theta * xi = uprime in the least-squares sense.\n",
    "    xi = np.linalg.lstsq(theta, uprime, rcond=None)[0]\n",
    "    n = xi.shape[1]\n",
    "\n",
    "    # Add sparsity.\n",
    "    for _ in range(max_iterations):\n",
    "        small_indices = np.abs(xi) < threshold\n",
    "        xi[small_indices] = 0\n",
    "        for j in range(n):\n",
    "            big_indices = np.logical_not(small_indices[:, j])\n",
    "            xi[big_indices, j] = np.linalg.lstsq(theta[:, big_indices],\n",
    "                                                 uprime[:, j],\n",
    "                                                 rcond=None)[0]\n",
    "\n",
    "    return xi"
   ]
  },
  {
   "cell_type": "code",
   "execution_count": 11,
   "metadata": {
    "executionInfo": {
     "elapsed": 1453,
     "status": "ok",
     "timestamp": 1737536879462,
     "user": {
      "displayName": "Ashesh Chattopadhyay",
      "userId": "15330689794524777668"
     },
     "user_tz": 480
    },
    "id": "X8vmzUiHaRoy"
   },
   "outputs": [],
   "source": [
    "### Starting main code #####\n",
    "\n",
    "# Constants used in the calculation of the Theta matrix of potential terms.\n",
    "POLYNOMIAL_ORDER = 2\n",
    "USE_TRIG = False\n",
    "\n",
    "# Constants used in the Sequential Thresholded Least-Squares algorithm.\n",
    "THRESHOLD = 0.025\n",
    "MAX_ITERATIONS = 10\n",
    "uprime = calculate_exact_derivatives(u)\n",
    "theta = create_library(u,POLYNOMIAL_ORDER,USE_TRIG)\n",
    "xi = calculate_regression(theta,uprime,THRESHOLD, MAX_ITERATIONS)"
   ]
  },
  {
   "cell_type": "code",
   "execution_count": 12,
   "metadata": {
    "colab": {
     "base_uri": "https://localhost:8080/"
    },
    "executionInfo": {
     "elapsed": 189,
     "status": "ok",
     "timestamp": 1704354783298,
     "user": {
      "displayName": "Ashesh Chattopadhyay",
      "userId": "15330689794524777668"
     },
     "user_tz": 480
    },
    "id": "yhO0zoI2dF3v",
    "outputId": "ce16a2e5-f37d-4276-cd02-f6e9360277ce"
   },
   "outputs": [
    {
     "data": {
      "text/plain": [
       "array([[  0.        ,   0.        ,   0.        ],\n",
       "       [-10.        ,  28.        ,   0.        ],\n",
       "       [ 10.        ,  -1.        ,   0.        ],\n",
       "       [  0.        ,   0.        ,  -2.66666667],\n",
       "       [  0.        ,   0.        ,   0.        ],\n",
       "       [  0.        ,   0.        ,   1.        ],\n",
       "       [  0.        ,  -1.        ,   0.        ],\n",
       "       [  0.        ,   0.        ,   0.        ],\n",
       "       [  0.        ,   0.        ,   0.        ],\n",
       "       [  0.        ,   0.        ,   0.        ]])"
      ]
     },
     "execution_count": 12,
     "metadata": {},
     "output_type": "execute_result"
    }
   ],
   "source": [
    "xi"
   ]
  },
  {
   "cell_type": "code",
   "execution_count": null,
   "metadata": {
    "id": "SdA1rX_cdh30"
   },
   "outputs": [],
   "source": []
  }
 ],
 "metadata": {
  "colab": {
   "authorship_tag": "ABX9TyMhCxlRAE9/uJQhNiY6sMEY",
   "gpuType": "T4",
   "provenance": []
  },
  "kernelspec": {
   "display_name": "condaenv",
   "language": "python",
   "name": "python3"
  },
  "language_info": {
   "codemirror_mode": {
    "name": "ipython",
    "version": 3
   },
   "file_extension": ".py",
   "mimetype": "text/x-python",
   "name": "python",
   "nbconvert_exporter": "python",
   "pygments_lexer": "ipython3",
   "version": "3.11.11"
  }
 },
 "nbformat": 4,
 "nbformat_minor": 0
}
