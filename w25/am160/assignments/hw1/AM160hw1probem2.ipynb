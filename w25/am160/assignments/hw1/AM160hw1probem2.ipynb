{
 "cells": [
  {
   "cell_type": "markdown",
   "metadata": {},
   "source": [
    "Modifies the existing code from: `sindy_with_exact_derivatives.ipynb`"
   ]
  },
  {
   "cell_type": "code",
   "execution_count": 189,
   "metadata": {
    "executionInfo": {
     "elapsed": 159,
     "status": "ok",
     "timestamp": 1737536818668,
     "user": {
      "displayName": "Ashesh Chattopadhyay",
      "userId": "15330689794524777668"
     },
     "user_tz": 480
    },
    "id": "CaU1DGXJca7D"
   },
   "outputs": [],
   "source": [
    "import h5py\n",
    "import numpy as np\n",
    "from scipy.integrate import solve_ivp\n",
    "from derivative import dxdt\n",
    "import matplotlib.pyplot as plt"
   ]
  },
  {
   "cell_type": "code",
   "execution_count": 190,
   "metadata": {
    "executionInfo": {
     "elapsed": 159,
     "status": "ok",
     "timestamp": 1737536850872,
     "user": {
      "displayName": "Ashesh Chattopadhyay",
      "userId": "15330689794524777668"
     },
     "user_tz": 480
    },
    "id": "vVQS4ajFXqxZ"
   },
   "outputs": [],
   "source": [
    "# Define the Lorenz equations\n",
    "def lorenz(_: float, u: np.ndarray, sigma: float, rho: float, beta: float) -> np.ndarray:\n",
    "       \"\"\"Returns a list containing the three functions of the Lorenz equation.\n",
    "\n",
    "       The Lorenz equations have constant coefficients (that don't depend on t),\n",
    "       but we still receive t as the first parameter because that's how the\n",
    "       integrator works.\n",
    "       \"\"\"\n",
    "       x = u[0]\n",
    "       y = u[1]\n",
    "       z = u[2]\n",
    "       dx_dt = sigma * (y - x)\n",
    "       dy_dt = x * (rho - z) - y\n",
    "       dz_dt = x * y - beta * z\n",
    "\n",
    "       return np.hstack((dx_dt, dy_dt, dz_dt))"
   ]
  },
  {
   "cell_type": "code",
   "execution_count": 191,
   "metadata": {
    "executionInfo": {
     "elapsed": 572,
     "status": "ok",
     "timestamp": 1737536853467,
     "user": {
      "displayName": "Ashesh Chattopadhyay",
      "userId": "15330689794524777668"
     },
     "user_tz": 480
    },
    "id": "SEKdBmE2Yc5k"
   },
   "outputs": [
    {
     "name": "stdout",
     "output_type": "stream",
     "text": [
      "(10000, 3)\n"
     ]
    }
   ],
   "source": [
    "# defines the constants needed for the Lorenz equations\n",
    "SIGMA = 10 # rate of diffusion\n",
    "RHO = 28 # Rayleigh number - defines convection properties\n",
    "BETA = 8 / 3 \n",
    "\n",
    "# defines the initial conditions of our system\n",
    "t0 = 0\n",
    "tmax = 100\n",
    "samples = 10000 # 10,000 temporal samples\n",
    "t = np.linspace(start=t0, stop=tmax, num=samples) # temporal space\n",
    "\n",
    "u0 = np.array([-8, 8, 27]) # initial condition at t=0\n",
    "\n",
    "# solve the lorenz system\n",
    "result = solve_ivp(fun=lorenz,\n",
    "                        t_span=(t0, tmax),\n",
    "                        y0=u0,\n",
    "                        t_eval=t,\n",
    "                        args=(SIGMA, RHO, BETA))\n",
    "u = result.y.T # the solution of the system through time\n",
    "print(u.shape)"
   ]
  },
  {
   "cell_type": "code",
   "execution_count": 192,
   "metadata": {
    "executionInfo": {
     "elapsed": 140,
     "status": "ok",
     "timestamp": 1737536855509,
     "user": {
      "displayName": "Ashesh Chattopadhyay",
      "userId": "15330689794524777668"
     },
     "user_tz": 480
    },
    "id": "_Yr2Bk6cb3Q_"
   },
   "outputs": [],
   "source": [
    "def calculate_exact_derivatives(u: np.ndarray) -> np.ndarray:\n",
    "    \"\"\"Calculates the exact derivatives by using the Lorenz equations.\n",
    "\n",
    "    Since we have the equations in this scenario, we can calculate the\n",
    "    exact derivatives. This is easily done by simply plugging u into the\n",
    "    equations, and getting du/dt back. In a real-world scenario, we don't\n",
    "    have the equations -- that's what we're trying to discover with SINDy!\n",
    "    \"\"\"\n",
    "    n = u.shape[0]\n",
    "    uprime = np.zeros_like(u)\n",
    "    for i in range(n):\n",
    "        uprime[i, :] = lorenz(None, u[i, :], SIGMA, RHO, BETA)\n",
    "\n",
    "    return uprime"
   ]
  },
  {
   "cell_type": "code",
   "execution_count": 193,
   "metadata": {
    "executionInfo": {
     "elapsed": 107,
     "status": "ok",
     "timestamp": 1737536857374,
     "user": {
      "displayName": "Ashesh Chattopadhyay",
      "userId": "15330689794524777668"
     },
     "user_tz": 480
    },
    "id": "3f16M9vZYyZq"
   },
   "outputs": [],
   "source": [
    "def create_library(u: np.ndarray, polynomial_order: int, use_trig: bool) -> np.ndarray:\n",
    "    \"\"\"Creates a matrix containing a library of candidate functions.\n",
    "\n",
    "    For example, if our u depends on x, y, and z, and we specify\n",
    "    polynomial_order=2 and use_trig=false, our terms would be:\n",
    "    1, x, y, z, x^2, xy, xz, y^2, yz, z^2.\n",
    "    \"\"\"\n",
    "    (m, n) = u.shape\n",
    "    theta = np.ones((m, 1))\n",
    "\n",
    "    # Polynomials of order 1.\n",
    "    theta = np.hstack((theta, u))\n",
    "\n",
    "    # Polynomials of order 2.\n",
    "    if polynomial_order >= 2:\n",
    "        for i in range(n):\n",
    "            for j in range(i, n):\n",
    "                theta = np.hstack((theta, u[:, i:i + 1] * u[:, j:j + 1]))\n",
    "\n",
    "    # Polynomials of order 3.\n",
    "    if polynomial_order >= 3:\n",
    "        for i in range(n):\n",
    "            for j in range(i, n):\n",
    "                for k in range(j, n):\n",
    "                    theta = np.hstack(\n",
    "                        (theta, u[:, i:i + 1] * u[:, j:j + 1] * u[:, k:k + 1]))\n",
    "\n",
    "    # Polynomials of order 4.\n",
    "    if polynomial_order >= 4:\n",
    "        for i in range(n):\n",
    "            for j in range(i, n):\n",
    "                for k in range(j, n):\n",
    "                    for l in range(k, n):\n",
    "                        theta = np.hstack(\n",
    "                            (theta, u[:, i:i + 1] * u[:, j:j + 1] *\n",
    "                             u[:, k:k + 1] * u[:, l:l + 1]))\n",
    "\n",
    "    # Polynomials of order 5.\n",
    "    if polynomial_order >= 5:\n",
    "        for i in range(n):\n",
    "            for j in range(i, n):\n",
    "                for k in range(j, n):\n",
    "                    for l in range(k, n):\n",
    "                        for m in range(l, n):\n",
    "                            theta = np.hstack(\n",
    "                                (theta, u[:, i:i + 1] * u[:, j:j + 1] *\n",
    "                                 u[:, k:k + 1] * u[:, l:l + 1] * u[:, m:m + 1]))\n",
    "\n",
    "    if use_trig:\n",
    "        for i in range(1, 11):\n",
    "            theta = np.hstack((theta, np.sin(i * u), np.cos(i * u)))\n",
    "\n",
    "    return theta"
   ]
  },
  {
   "cell_type": "code",
   "execution_count": 194,
   "metadata": {
    "executionInfo": {
     "elapsed": 138,
     "status": "ok",
     "timestamp": 1737536859618,
     "user": {
      "displayName": "Ashesh Chattopadhyay",
      "userId": "15330689794524777668"
     },
     "user_tz": 480
    },
    "id": "BjiZRIG3Z5eZ"
   },
   "outputs": [],
   "source": [
    "def calculate_regression(theta: np.ndarray, uprime: np.ndarray, threshold: float, max_iterations: int) -> np.ndarray:\n",
    "    \"\"\"Finds a xi matrix that fits theta * xi = uprime, using the sequential\n",
    "    thresholded least-squares algorithm, which is a regression algorithm that\n",
    "    promotes sparsity.\n",
    "\n",
    "    The authors of the SINDy paper designed this algorithm as an alternative\n",
    "    to LASSO, because they found LASSO to be algorithmically unstable, and\n",
    "    computationally expensive for very large data sets.\n",
    "    \"\"\"\n",
    "    # Solve theta * xi = uprime in the least-squares sense.\n",
    "    xi = np.linalg.lstsq(theta, uprime, rcond=None)[0]\n",
    "    n = xi.shape[1]\n",
    "\n",
    "    # Add sparsity.\n",
    "    for _ in range(max_iterations):\n",
    "        small_indices = np.abs(xi) < threshold\n",
    "        xi[small_indices] = 0\n",
    "        for j in range(n):\n",
    "            big_indices = np.logical_not(small_indices[:, j])\n",
    "            xi[big_indices, j] = np.linalg.lstsq(theta[:, big_indices],\n",
    "                                                 uprime[:, j],\n",
    "                                                 rcond=None)[0]\n",
    "\n",
    "    return xi"
   ]
  },
  {
   "cell_type": "markdown",
   "metadata": {},
   "source": [
    "(a) Assume you have the true derivatives, but they are noisy. Simulate\n",
    "that by adding a Gaussian with variance 0.01, 0.1, and 0.5. Present your re-\n",
    "sults in a way that shows how well the accuracy of your discovered coefficients\n",
    "improve/worsen with increase in noise. Play with the maximum number of\n",
    "iterations in STLSQ algorithm or with the number of basis functions."
   ]
  },
  {
   "cell_type": "code",
   "execution_count": 195,
   "metadata": {},
   "outputs": [
    {
     "name": "stdout",
     "output_type": "stream",
     "text": [
      "\n",
      "Noise Variance: 0.01\n",
      "Average Difference: 0.0000088945\n",
      "\n",
      "Noise Variance: 0.1\n",
      "Average Difference: 0.0000627417\n",
      "\n",
      "Noise Variance: 0.5\n",
      "Average Difference: 0.0002105810\n"
     ]
    },
    {
     "data": {
      "image/png": "[encoded data removed]",
      "text/plain": [
       "<Figure size 640x480 with 1 Axes>"
      ]
     },
     "metadata": {},
     "output_type": "display_data"
    }
   ],
   "source": [
    "# Constants used in the calculation of the Theta matrix of potential terms.\n",
    "POLYNOMIAL_ORDER = 2\n",
    "USE_TRIG = False\n",
    "# Constants used in the Sequential Thresholded Least-Squares algorithm.\n",
    "THRESHOLD = 0.025\n",
    "MAX_ITERATIONS = 100\n",
    "\n",
    "\n",
    "exact_derivs = calculate_exact_derivatives(u) # the exact derivatives of the system\n",
    "noise_variance = [0.01, 0.1, 0.5] # the gaussian noise variance to be added to the derivatives\n",
    "noise_variance = np.arange(0, 0.51, 0.01)\n",
    "theta = create_library(u, POLYNOMIAL_ORDER, USE_TRIG) # the Theta matrix of potential terms\n",
    "exact_xi = calculate_regression(theta, exact_derivs, THRESHOLD, MAX_ITERATIONS)\n",
    "avg_diff_list = []\n",
    "\n",
    "for variance in noise_variance:\n",
    "    noisy_derivs = exact_derivs + np.random.normal(0, variance, exact_derivs.shape) # the noisy derivatives of the system\n",
    "    \n",
    "    noisy_xi = calculate_regression(theta, noisy_derivs, THRESHOLD, MAX_ITERATIONS) # the xi matrix that fits theta * xi = uprime\n",
    "\n",
    "    # compute difference between discovered coefficients and actual coefficients\n",
    "    diff = np.abs(noisy_xi - exact_xi)\n",
    "    avg_diff = np.mean(diff)\n",
    "    avg_diff_list.append(avg_diff)\n",
    "    if (variance == 0.01 or variance == 0.1 or variance == 0.5):\n",
    "        print(f\"\\nNoise Variance: {variance}\")\n",
    "        # print(\"Discovered Coefficients (xi):\")\n",
    "        # print(noisy_xi)\n",
    "        # print(\"Difference between discovered coefficients and actual coefficients:\")\n",
    "        # print(np.char.mod('%.4f', diff).astype(float))\n",
    "        print(f\"Average Difference: {avg_diff:.10f}\")\n",
    "        \n",
    "plt.scatter(noise_variance, avg_diff_list)\n",
    "plt.xlabel('Noise Variance');\n",
    "plt.ylabel('Average Difference');"
   ]
  },
  {
   "cell_type": "markdown",
   "metadata": {},
   "source": [
    "The Results show us that the accuracy of the discovered coefficients tend worsen with an increase in noise. However as we increase the number of basis functions, or the number of Iterations the accuracy of all of discovered coefficients improve, although we still see the same correlation between the increase in noise and the decrease in accuracy. Increasing the number of iterations also helps to control the spread of the resulting discovered coefficients with noise applied."
   ]
  },
  {
   "cell_type": "markdown",
   "metadata": {},
   "source": [
    "(b) Compute the derivatives using data of x(t), y(t), and z(t). Use first order\n",
    "finite difference, or central difference, or any other method. Perhaps try fitting a\n",
    "cubic spline using every 4 consecutive temporal samples and then computing the\n",
    "derivative using the splines. Finally, report your discovered coefficients in a way\n",
    "that shows how the effect of your derivative scheme reflects in your discovered\n",
    "coefficients"
   ]
  },
  {
   "cell_type": "code",
   "execution_count": 196,
   "metadata": {},
   "outputs": [
    {
     "name": "stdout",
     "output_type": "stream",
     "text": [
      "Discovered Coefficients using forward finite differences:\n",
      "[[ 0.         -0.19671503  0.56816771]\n",
      " [-8.09542946 26.08518467  0.        ]\n",
      " [ 9.43556075  0.79245818  0.        ]\n",
      " [ 0.          0.         -2.61566289]\n",
      " [ 0.          0.         -0.05677329]\n",
      " [ 0.          0.          0.89185088]\n",
      " [-0.0496053  -0.9175055   0.        ]\n",
      " [ 0.          0.          0.10477387]\n",
      " [ 0.         -0.09172379  0.        ]\n",
      " [ 0.          0.          0.        ]]\n",
      "forward finite difference vs actual coefficients\n",
      "    Average Difference: 0.2495229896\n",
      "\n",
      "\n",
      "Discovered Coefficients using central finite differences:\n",
      "[[ 0.          0.          0.03486737]\n",
      " [-9.98203659 27.61238813  0.        ]\n",
      " [ 9.98189458 -0.91816386  0.        ]\n",
      " [ 0.          0.         -2.66071444]\n",
      " [ 0.          0.          0.        ]\n",
      " [ 0.          0.          0.99626213]\n",
      " [ 0.         -0.98815571  0.        ]\n",
      " [ 0.          0.          0.        ]\n",
      " [ 0.          0.          0.        ]\n",
      " [ 0.          0.          0.        ]]\n",
      "central finite difference vs actual coefficients\n",
      "    Average Difference: 0.0187306198\n"
     ]
    }
   ],
   "source": [
    "def forward_difference_derivative(u: np.ndarray, t: np.ndarray) -> np.ndarray:\n",
    "    \"\"\"\n",
    "    Estimates the time derivative of u using forward differences.\n",
    "    \"\"\"\n",
    "    dt = t[1] - t[0] # size of the first time step\n",
    "    uprime_fd = np.zeros_like(u)\n",
    "    for i in range(u.shape[1]): # for each variable\n",
    "        uprime_fd[:-1, i] = (u[1:, i] - u[:-1, i]) / dt # forward difference\n",
    "        uprime_fd[-1, i] = (u[-1, i] - u[-2, i]) / dt # backward difference for the last point\n",
    "    return uprime_fd\n",
    "\n",
    "def central_difference_derivative(u: np.ndarray, t: np.ndarray) -> np.ndarray:\n",
    "    \"\"\"\n",
    "    Estimates the time derivative of u using central differences\n",
    "    \"\"\"\n",
    "    dt = t[1] - t[0]\n",
    "    uprime_fd = np.zeros_like(u)\n",
    "    for i in range(u.shape[1]): # for each variable\n",
    "        uprime_fd[0, i] = (u[1, i] - u[0, i]) / dt # forward difference for the first point\n",
    "        uprime_fd[1:-1, i] = (u[2:, i] - u[:-2, i]) / (2 * dt) # central difference\n",
    "        uprime_fd[-1, i] = (u[-1, i] - u[-2, i]) / dt # backward difference for the last point\n",
    "    return uprime_fd\n",
    "\n",
    "forward_difference = forward_difference_derivative(u, t)\n",
    "central_difference = central_difference_derivative(u, t)\n",
    "\n",
    "# Run regression using finite difference derivatives.\n",
    "forward_xi = calculate_regression(theta, forward_difference, THRESHOLD, MAX_ITERATIONS)\n",
    "central_xi = calculate_regression(theta, central_difference, THRESHOLD, MAX_ITERATIONS)\n",
    "\n",
    "print(\"Discovered Coefficients using forward finite differences:\")\n",
    "print(forward_xi)\n",
    "\n",
    "diff = np.abs(forward_xi - exact_xi)\n",
    "# print(\"Difference between discovered coefficients and actual coefficients:\")\n",
    "# print(np.char.mod('%.9f', diff).astype(float))\n",
    "\n",
    "avg_diff = np.mean(diff)\n",
    "print(\"forward finite difference vs actual coefficients\")\n",
    "print(f\"    Average Difference: {avg_diff:.10f}\")\n",
    "\n",
    "print()\n",
    "print()\n",
    "\n",
    "print(\"Discovered Coefficients using central finite differences:\")\n",
    "print(central_xi)\n",
    "\n",
    "diff = np.abs(central_xi - exact_xi)\n",
    "# print(\"Difference between discovered coefficients and actual coefficients:\")\n",
    "# print(np.char.mod('%.9f', diff).astype(float))\n",
    "\n",
    "avg_diff = np.mean(diff)\n",
    "print(\"central finite difference vs actual coefficients\")\n",
    "print(f\"    Average Difference: {avg_diff:.10f}\")\n"
   ]
  },
  {
   "cell_type": "markdown",
   "metadata": {},
   "source": [
    "We can tell from the results that the forward method is a less accurate method of finding the derivatives, because the discovered coefficients are less accurate than the true coefficients. The central method is more accurate than the forward method, but still less accurate than the true coefficients. I wasn't able to implement the cubic spine method because but I would expect it be even more accurate than the central method."
   ]
  }
 ],
 "metadata": {
  "colab": {
   "authorship_tag": "ABX9TyMhCxlRAE9/uJQhNiY6sMEY",
   "gpuType": "T4",
   "provenance": []
  },
  "kernelspec": {
   "display_name": "condaenv",
   "language": "python",
   "name": "python3"
  },
  "language_info": {
   "codemirror_mode": {
    "name": "ipython",
    "version": 3
   },
   "file_extension": ".py",
   "mimetype": "text/x-python",
   "name": "python",
   "nbconvert_exporter": "python",
   "pygments_lexer": "ipython3",
   "version": "3.11.11"
  }
 },
 "nbformat": 4,
 "nbformat_minor": 0
}
